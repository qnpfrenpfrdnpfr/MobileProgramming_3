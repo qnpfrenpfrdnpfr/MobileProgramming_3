{
  "nbformat": 4,
  "nbformat_minor": 0,
  "metadata": {
    "colab": {
      "provenance": [],
      "toc_visible": true,
      "include_colab_link": true
    },
    "kernelspec": {
      "name": "python3",
      "display_name": "Python 3"
    },
    "language_info": {
      "name": "python"
    }
  },
  "cells": [
    {
      "cell_type": "markdown",
      "metadata": {
        "id": "view-in-github",
        "colab_type": "text"
      },
      "source": [
        "<a href=\"https://colab.research.google.com/github/qnpfrenpfrdnpfr/MobileProgramming_3/blob/main/Untitled0.ipynb\" target=\"_parent\"><img src=\"https://colab.research.google.com/assets/colab-badge.svg\" alt=\"Open In Colab\"/></a>"
      ]
    },
    {
      "cell_type": "code",
      "execution_count": null,
      "metadata": {
        "colab": {
          "base_uri": "https://localhost:8080/",
          "height": 172
        },
        "id": "ZZ0temXPK3oe",
        "outputId": "45b3bd18-e5a5-4231-e6a0-9b308f356fe1"
      },
      "outputs": [
        {
          "output_type": "error",
          "ename": "NameError",
          "evalue": "ignored",
          "traceback": [
            "\u001b[0;31m---------------------------------------------------------------------------\u001b[0m",
            "\u001b[0;31mNameError\u001b[0m                                 Traceback (most recent call last)",
            "\u001b[0;32m<ipython-input-1-a5a5f8c12305>\u001b[0m in \u001b[0;36m<cell line: 1>\u001b[0;34m()\u001b[0m\n\u001b[0;32m----> 1\u001b[0;31m \u001b[0mㅇㅏㄴ녕\u001b[0m\u001b[0;34m\u001b[0m\u001b[0;34m\u001b[0m\u001b[0m\n\u001b[0m",
            "\u001b[0;31mNameError\u001b[0m: name '아ᄂ녕' is not defined"
          ]
        }
      ],
      "source": [
        "ㅇㅏㄴ녕 이거 맞아?\n",
        "이거 맞아? 맞나? 맞음? 맞는가? 맞오? 맞아? 맞어? 맞는지? 맞는가요 ? 맞는지요 ?"
      ]
    },
    {
      "cell_type": "markdown",
      "source": [
        "안녕\n"
      ],
      "metadata": {
        "id": "6YmtRayvLBHN"
      }
    },
    {
      "cell_type": "markdown",
      "source": [
        "아라라라"
      ],
      "metadata": {
        "id": "EEMqk8uvLfxF"
      }
    },
    {
      "cell_type": "code",
      "source": [],
      "metadata": {
        "id": "jwpfkczlMg_v"
      },
      "execution_count": null,
      "outputs": []
    }
  ]
}